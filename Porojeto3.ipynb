{
  "nbformat": 4,
  "nbformat_minor": 0,
  "metadata": {
    "colab": {
      "name": "Porojeto3.ipynb",
      "provenance": [],
      "collapsed_sections": [],
      "authorship_tag": "ABX9TyMRlSRgAZzZOwgma7r9ueVf",
      "include_colab_link": true
    },
    "kernelspec": {
      "name": "python3",
      "display_name": "Python 3"
    },
    "language_info": {
      "name": "python"
    },
    "accelerator": "GPU"
  },
  "cells": [
    {
      "cell_type": "markdown",
      "metadata": {
        "id": "view-in-github",
        "colab_type": "text"
      },
      "source": [
        "<a href=\"https://colab.research.google.com/github/Matheus2608/Data-Science/blob/main/Porojeto3.ipynb\" target=\"_parent\"><img src=\"https://colab.research.google.com/assets/colab-badge.svg\" alt=\"Open In Colab\"/></a>"
      ]
    },
    {
      "cell_type": "markdown",
      "source": [
        "# Fazendo segmentação de instâncias de doenças em morangos"
      ],
      "metadata": {
        "id": "QzhsPqIGQ5Cx"
      }
    },
    {
      "cell_type": "markdown",
      "source": [
        "## Importando dataset do Kaggle de imagens de morangos com doenças\n",
        "Mas para isso é necessário ter uma conta no kaggle, se você não tiver sugiro que entre no link que estou fazendo o download do dataset e faça o download pra sua máquina e depois transfira para o Colab"
      ],
      "metadata": {
        "id": "vXor8PuUJT5T"
      }
    },
    {
      "cell_type": "code",
      "source": [
        "!pip install opendatasets\n",
        "import opendatasets as od"
      ],
      "metadata": {
        "id": "ELE_0rXRJoHy"
      },
      "execution_count": null,
      "outputs": []
    },
    {
      "cell_type": "code",
      "execution_count": 2,
      "metadata": {
        "colab": {
          "base_uri": "https://localhost:8080/"
        },
        "id": "STDHAUvkCsTp",
        "outputId": "615ca985-981d-4c77-c066-7c61ad28f484"
      },
      "outputs": [
        {
          "output_type": "stream",
          "name": "stdout",
          "text": [
            "Skipping, found downloaded files in \"./strawberry-disease-detection-dataset\" (use force=True to force download)\n"
          ]
        }
      ],
      "source": [
        "od.download(\"https://www.kaggle.com/datasets/usmanafzaal/strawberry-disease-detection-dataset\")"
      ]
    },
    {
      "cell_type": "markdown",
      "source": [
        "## Treinando Yolact ++\n",
        "## Setup Inicial\n",
        "- Para utilizar esse modelo, é necessário importar algumas bibliotecas antes\n"
      ],
      "metadata": {
        "id": "ppyssrnuQGpl"
      }
    },
    {
      "cell_type": "code",
      "source": [
        "# Cython precisa ser instalado antes de pycocotools\n",
        "!pip install cython\n",
        "!pip install opencv-python pillow pycocotools matplotlib\n",
        "\n",
        "#DCNv2\n",
        "!pip install torchvision==0.5.0\n",
        "!pip install torch==1.4.0"
      ],
      "metadata": {
        "id": "Ax0ET1HrRUJN"
      },
      "execution_count": null,
      "outputs": []
    },
    {
      "cell_type": "markdown",
      "source": [
        "## Importando o código da Yolact do github dos autores dela"
      ],
      "metadata": {
        "id": "na3Lt5K1RkD5"
      }
    },
    {
      "cell_type": "code",
      "source": [
        "# Clone the repo\n",
        "!git clone https://github.com/dbolya/yolact.git"
      ],
      "metadata": {
        "colab": {
          "base_uri": "https://localhost:8080/"
        },
        "id": "a-cAlY9-RsT6",
        "outputId": "64f89a86-0405-44c9-d0e8-de8c7a4aaca9"
      },
      "execution_count": 4,
      "outputs": [
        {
          "output_type": "stream",
          "name": "stdout",
          "text": [
            "fatal: destination path 'yolact' already exists and is not an empty directory.\n"
          ]
        }
      ]
    },
    {
      "cell_type": "markdown",
      "source": [
        "## DCNv2\n",
        "É necessário contruir essa biblioteca, **mas** para isso é necessário que o colab esteja rodando no modo GPU\n",
        "\n",
        "Para isso:\n",
        "- Clique em Editar > COnfigurações de Notebook\n",
        "- Coloque GPU como seu hardware e salve\n"
      ],
      "metadata": {
        "id": "b08O9263RyM9"
      }
    },
    {
      "cell_type": "code",
      "source": [
        "%cd /content/yolact/external/DCNv2\n",
        "!python setup.py build develop"
      ],
      "metadata": {
        "id": "Dn75fb9eR0iZ"
      },
      "execution_count": null,
      "outputs": []
    },
    {
      "cell_type": "markdown",
      "source": [
        "## Formatando a base de dados"
      ],
      "metadata": {
        "id": "XPJmgCMOX8Fg"
      }
    },
    {
      "cell_type": "code",
      "source": [
        "%cd ../data/ "
      ],
      "metadata": {
        "colab": {
          "base_uri": "https://localhost:8080/"
        },
        "id": "0w6MRY-CVpX5",
        "outputId": "faaf43c0-bd3b-4d07-d3a4-14bcd5093fe9"
      },
      "execution_count": 6,
      "outputs": [
        {
          "output_type": "stream",
          "name": "stdout",
          "text": [
            "[Errno 2] No such file or directory: '../data/'\n",
            "/content/yolact/external/DCNv2\n"
          ]
        }
      ]
    },
    {
      "cell_type": "code",
      "source": [
        "%mkdir dataset_formatado"
      ],
      "metadata": {
        "id": "qAIeY5cXWTP6"
      },
      "execution_count": 7,
      "outputs": []
    },
    {
      "cell_type": "code",
      "source": [
        "%cd dataset_formatado"
      ],
      "metadata": {
        "colab": {
          "base_uri": "https://localhost:8080/"
        },
        "id": "pSv3rAtyWXJd",
        "outputId": "10b0822d-8511-4178-b7f1-74466bf8dbd3"
      },
      "execution_count": 8,
      "outputs": [
        {
          "output_type": "stream",
          "name": "stdout",
          "text": [
            "/content/yolact/external/DCNv2/dataset_formatado\n"
          ]
        }
      ]
    },
    {
      "cell_type": "code",
      "source": [
        "%mkdir train_images train_info valid_images valid_info "
      ],
      "metadata": {
        "id": "B-e9buhGPpGk"
      },
      "execution_count": 9,
      "outputs": []
    },
    {
      "cell_type": "code",
      "source": [
        "%cd /content/strawberry-disease-detection-dataset/"
      ],
      "metadata": {
        "colab": {
          "base_uri": "https://localhost:8080/"
        },
        "id": "9VfZAQt6V8wU",
        "outputId": "e3790956-2697-47e7-f49a-46a91a5110c1"
      },
      "execution_count": 10,
      "outputs": [
        {
          "output_type": "stream",
          "name": "stdout",
          "text": [
            "/content/strawberry-disease-detection-dataset\n"
          ]
        }
      ]
    },
    {
      "cell_type": "code",
      "source": [
        "caminho_dataset = !pwd"
      ],
      "metadata": {
        "id": "4SL0BKqqXiKv"
      },
      "execution_count": 11,
      "outputs": []
    },
    {
      "cell_type": "code",
      "source": [
        "caminho_dataset"
      ],
      "metadata": {
        "colab": {
          "base_uri": "https://localhost:8080/"
        },
        "id": "Wga-qSgIaUYH",
        "outputId": "b35f7a38-7bf8-46e5-85c5-aa284bfb5b13"
      },
      "execution_count": 12,
      "outputs": [
        {
          "output_type": "execute_result",
          "data": {
            "text/plain": [
              "['/content/strawberry-disease-detection-dataset']"
            ]
          },
          "metadata": {},
          "execution_count": 12
        }
      ]
    },
    {
      "cell_type": "code",
      "source": [
        "%cd train\n",
        "%mv *.jpg /content/yolact/data/dataset_formatado/train_images\n",
        "%mv * /content/yolact/data/dataset_formatado/train_info\n",
        "%cd ..\n"
      ],
      "metadata": {
        "colab": {
          "base_uri": "https://localhost:8080/"
        },
        "id": "S3mwLTWPYYw2",
        "outputId": "e889c630-ab77-4dbe-9cb7-3e163fac1b5a"
      },
      "execution_count": 13,
      "outputs": [
        {
          "output_type": "stream",
          "name": "stdout",
          "text": [
            "/content/strawberry-disease-detection-dataset/train\n",
            "mv: cannot stat '*.jpg': No such file or directory\n",
            "/content/strawberry-disease-detection-dataset\n"
          ]
        }
      ]
    },
    {
      "cell_type": "code",
      "source": [
        "%cd val\n",
        "%mv *.jpg /content/yolact/data/dataset_formatado/valid_images\n",
        "%mv * /content/yolact/data/dataset_formatado/valid_info"
      ],
      "metadata": {
        "colab": {
          "base_uri": "https://localhost:8080/"
        },
        "id": "pcdMSSHDarsc",
        "outputId": "d72430e5-1132-4fc2-9e42-e9d359baf6ce"
      },
      "execution_count": 14,
      "outputs": [
        {
          "output_type": "stream",
          "name": "stdout",
          "text": [
            "/content/strawberry-disease-detection-dataset/val\n"
          ]
        }
      ]
    },
    {
      "cell_type": "markdown",
      "source": [
        "Agora que o dataset está formatado do jeito que é necessário, é preciso mudar o arquivo config.py da pasta data do yolact\n",
        "\n",
        "No final dos datasets coloque o seguinte comando:"
      ],
      "metadata": {
        "id": "uKBmgtj4bwA0"
      }
    },
    {
      "cell_type": "code",
      "source": [
        "'''\n",
        "my_custom_dataset = dataset_base.copy({\n",
        "    'name': 'Doença de Morango',\n",
        "\n",
        "    'train_images': './dataset_formatado/train_images',\n",
        "    'train_info':   './dataset_formatado/train_info',\n",
        "\n",
        "    'valid_images': './dataset_formatado/valid_images',\n",
        "    'valid_info':   './dataset_formatado/valid_info',\n",
        "\n",
        "    'has_gt': True,\n",
        "    'class_names': ('my_class_id_1', 'my_class_id_2', 'my_class_id_3', 'my_class_id_4', 'my_class_id_5', 'my_class_id_6', 'my_class_id_7')\n",
        "})\n",
        "'''"
      ],
      "metadata": {
        "id": "Vij1hTptbvtg"
      },
      "execution_count": null,
      "outputs": []
    },
    {
      "cell_type": "code",
      "source": [
        "%cd /content/yolact"
      ],
      "metadata": {
        "colab": {
          "base_uri": "https://localhost:8080/"
        },
        "id": "K4J0Re4xd2tP",
        "outputId": "7c6f589a-3397-4b71-a87b-cc59dafbd88e"
      },
      "execution_count": 16,
      "outputs": [
        {
          "output_type": "stream",
          "name": "stdout",
          "text": [
            "/content/yolact\n"
          ]
        }
      ]
    },
    {
      "cell_type": "code",
      "source": [
        "# Trains using the base config with a batch size of 8 (the default).\n",
        "!python train.py --config=yolact_base_config"
      ],
      "metadata": {
        "colab": {
          "base_uri": "https://localhost:8080/"
        },
        "id": "4x11VD2EcctX",
        "outputId": "85c02563-e9f8-4b0e-bbaa-87e2f1386bcd"
      },
      "execution_count": 19,
      "outputs": [
        {
          "output_type": "stream",
          "name": "stdout",
          "text": [
            "Traceback (most recent call last):\n",
            "  File \"train.py\", line 504, in <module>\n",
            "    train()\n",
            "  File \"train.py\", line 176, in train\n",
            "    dataset = COCODetection(image_path=cfg.dataset.train_images,\n",
            "AttributeError: 'str' object has no attribute 'train_images'\n"
          ]
        }
      ]
    },
    {
      "cell_type": "markdown",
      "source": [
        "@article{yolact-plus-tpami2020,\n",
        "\n",
        "  author  = {Daniel Bolya and Chong Zhou and Fanyi Xiao and Yong Jae Lee},\n",
        "\n",
        "  journal = {IEEE Transactions on Pattern Analysis and Machine Intelligence}, \n",
        "\n",
        "  title   = {YOLACT++: Better Real-time Instance Segmentation}, \n",
        "\n",
        "  year    = {2020},\n",
        "  \n",
        "}"
      ],
      "metadata": {
        "id": "c3c7FlwiTXdv"
      }
    }
  ]
}