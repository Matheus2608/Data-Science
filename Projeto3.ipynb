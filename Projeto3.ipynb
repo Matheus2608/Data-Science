{
  "nbformat": 4,
  "nbformat_minor": 0,
  "metadata": {
    "colab": {
      "name": "Projeto3.ipynb",
      "provenance": [],
      "collapsed_sections": [],
      "authorship_tag": "ABX9TyOhc3Gz6yZ2gaJxD2+eYVVT",
      "include_colab_link": true
    },
    "kernelspec": {
      "name": "python3",
      "display_name": "Python 3"
    },
    "language_info": {
      "name": "python"
    },
    "accelerator": "GPU"
  },
  "cells": [
    {
      "cell_type": "markdown",
      "metadata": {
        "id": "view-in-github",
        "colab_type": "text"
      },
      "source": [
        "<a href=\"https://colab.research.google.com/github/Matheus2608/Data-Science/blob/main/Projeto3.ipynb\" target=\"_parent\"><img src=\"https://colab.research.google.com/assets/colab-badge.svg\" alt=\"Open In Colab\"/></a>"
      ]
    },
    {
      "cell_type": "markdown",
      "source": [
        "# Fazendo segmentação de instâncias de doenças em morangosaa"
      ],
      "metadata": {
        "id": "QzhsPqIGQ5Cx"
      }
    },
    {
      "cell_type": "markdown",
      "source": [
        "## Importando dataset do Kaggle de imagens de morangos com doenças\n",
        "Para isso, eu fiz o download por linha de comando pelo dataset ser pesado. De referência segui os passos desse site: https://www.analyticsvidhya.com/blog/2021/04/how-to-download-kaggle-datasets-using-jupyter-notebook/\n",
        "\n",
        "Mas para isso é necessário ter uma conta no kaggle, se você não tiver sugiro que entre no link que estou fazendo o download do dataset e faça o download pra sua máquina e depois transfira para o Colab"
      ],
      "metadata": {
        "id": "vXor8PuUJT5T"
      }
    },
    {
      "cell_type": "code",
      "source": [
        "!pip install opendatasets\n",
        "import opendatasets as od"
      ],
      "metadata": {
        "id": "ELE_0rXRJoHy"
      },
      "execution_count": null,
      "outputs": []
    },
    {
      "cell_type": "code",
      "execution_count": null,
      "metadata": {
        "id": "STDHAUvkCsTp"
      },
      "outputs": [],
      "source": [
        "od.download(\"https://www.kaggle.com/datasets/usmanafzaal/strawberry-disease-detection-dataset\")"
      ]
    },
    {
      "cell_type": "markdown",
      "source": [
        "## Treinando Yolact ++\n",
        "## Setup Inicial\n",
        "- Para utilizar esse modelo, é necessário importar algumas bibliotecas antes\n"
      ],
      "metadata": {
        "id": "ppyssrnuQGpl"
      }
    },
    {
      "cell_type": "code",
      "source": [
        "# Cython precisa ser instalado antes de pycocotools\n",
        "!pip install cython\n",
        "!pip install opencv-python pillow pycocotools matplotlib\n",
        "\n",
        "#DCNv2\n",
        "!pip install torchvision==0.5.0\n",
        "!pip install torch==1.4.0"
      ],
      "metadata": {
        "id": "Ax0ET1HrRUJN"
      },
      "execution_count": null,
      "outputs": []
    },
    {
      "cell_type": "markdown",
      "source": [
        "## Importando o código da Yolact do github dos autores dela"
      ],
      "metadata": {
        "id": "na3Lt5K1RkD5"
      }
    },
    {
      "cell_type": "code",
      "source": [
        "# Clone the repo\n",
        "!git clone https://github.com/dbolya/yolact.git"
      ],
      "metadata": {
        "id": "a-cAlY9-RsT6"
      },
      "execution_count": null,
      "outputs": []
    },
    {
      "cell_type": "markdown",
      "source": [
        "## DCNv2\n",
        "É necessário contruir essa biblioteca, **mas** para isso é necessário que o colab esteja rodando no modo GPU\n",
        "\n",
        "Para isso:\n",
        "- Clique em Editar > COnfigurações de Notebook\n",
        "- Coloque GPU como seu hardware e salve\n"
      ],
      "metadata": {
        "id": "b08O9263RyM9"
      }
    },
    {
      "cell_type": "code",
      "source": [
        "%cd /content/yolact/external/DCNv2\n",
        "!python setup.py build develop"
      ],
      "metadata": {
        "id": "Dn75fb9eR0iZ"
      },
      "execution_count": null,
      "outputs": []
    },
    {
      "cell_type": "markdown",
      "source": [
        "## Pesos\n",
        "- Para não demorar muito o treinamento, vou usar pesos de outro modelo ja treinado\n",
        "- Tentei de quase todos jeitos possíveis usando comando, mas o yolact não funciona.\n",
        "- É necessário baixar o peso no github e exportar para esse colab"
      ],
      "metadata": {
        "id": "G6IdNc0yjayg"
      }
    },
    {
      "cell_type": "code",
      "source": [
        "%cd /content/yolact\n",
        "%mkdir weights"
      ],
      "metadata": {
        "id": "ByEsQ-oGkTSv",
        "outputId": "71c00e55-37e5-4c96-9b9d-daf0c2596d39",
        "colab": {
          "base_uri": "https://localhost:8080/"
        }
      },
      "execution_count": null,
      "outputs": [
        {
          "output_type": "stream",
          "name": "stdout",
          "text": [
            "/content/yolact\n"
          ]
        }
      ]
    },
    {
      "cell_type": "code",
      "source": [
        "!gdown \"https://drive.google.com/uc?id=15id0Qq5eqRbkD-N3ZjDZXdCvRyIaHpFB&export=download\" -O \"./weights/yolact_plus_base_54_800000.pth\""
      ],
      "metadata": {
        "id": "Dw8Q5UoQQYcU"
      },
      "execution_count": null,
      "outputs": []
    },
    {
      "cell_type": "markdown",
      "source": [
        "## Formatando a base de dados"
      ],
      "metadata": {
        "id": "XPJmgCMOX8Fg"
      }
    },
    {
      "cell_type": "code",
      "source": [
        "!pip install -U labelme2coco"
      ],
      "metadata": {
        "id": "AKoGQxaPNMXu"
      },
      "execution_count": null,
      "outputs": []
    },
    {
      "cell_type": "code",
      "source": [
        "%cd /content/yolact/data/\n",
        "\n",
        "# import functions\n",
        "from labelme2coco import get_coco_from_labelme_folder, save_json\n",
        "\n",
        "# set labelme training data directory\n",
        "labelme_train_folder = \"/content/strawberry-disease-detection-dataset/train/\"\n",
        "\n",
        "# set labelme validation data directory\n",
        "labelme_val_folder = \"/content/strawberry-disease-detection-dataset/val/\"\n",
        "\n",
        "# set path for coco json to be saved\n",
        "export_dir = \"/content/\"\n",
        "\n",
        "# create train coco object\n",
        "train_coco = get_coco_from_labelme_folder(labelme_train_folder)\n",
        "\n",
        "# export train coco json\n",
        "save_json(train_coco.json, export_dir+\"train.json\")\n",
        "\n",
        "# create val coco object\n",
        "val_coco = get_coco_from_labelme_folder(labelme_val_folder, coco_category_list=train_coco.json_categories)\n",
        "\n",
        "# export val coco json\n",
        "save_json(val_coco.json, export_dir+\"val.json\")"
      ],
      "metadata": {
        "id": "KzH0050YOlTt"
      },
      "execution_count": null,
      "outputs": []
    },
    {
      "cell_type": "code",
      "source": [
        "# Fazendo diretório para as imagens\n",
        "%cd /content/\n",
        "%mkdir train_images valid_images\n",
        "\n",
        "#Transferindo as imagens dentro do dataset para o direotrio root\n",
        "%cd /content/strawberry-disease-detection-dataset/train\n",
        "%mv *.jpg ../../train_images/\n",
        "%cd ../val/\n",
        "%mv *.jpg ../../valid_images/\n",
        "%cd ..\n"
      ],
      "metadata": {
        "id": "0w6MRY-CVpX5"
      },
      "execution_count": null,
      "outputs": []
    },
    {
      "cell_type": "markdown",
      "source": [
        "Agora que o dataset está formatado do jeito que é necessário, é preciso mudar o arquivo config.py da pasta data do yolact\n",
        "\n",
        "No final dos datasets coloque o seguinte comando:"
      ],
      "metadata": {
        "id": "uKBmgtj4bwA0"
      }
    },
    {
      "cell_type": "code",
      "source": [
        "'''\n",
        "# ----------------------- DATASETS ----------------------- #\n",
        "...\n",
        "\n",
        "my_custom_dataset = dataset_base.copy({\n",
        "    'name': 'Doença de Morango',\n",
        "\n",
        "    'train_images': '/content/train_images',\n",
        "    'train_info':   '/content/train.json',\n",
        "\n",
        "    'valid_images': '/content/valid_images',\n",
        "    'valid_info':   '/content/val.json',\n",
        "\n",
        "    'has_gt': True,\n",
        "    'class_names': (\"Powdery Mildew Leaf\", \"Leaf Spot\", \"Angular Leafspot\", \"Powdery Mildew Fruit\", \"Gray Mold\", \"Anthracnose Fruit Rot\", \"Blossom Blight\")\n",
        "})\n",
        "\n",
        "# ----------------------- CONFIG DEFAULTS ----------------------- #\n",
        "\n",
        "coco_base_config = Config({\n",
        "    'dataset': my_custom_dataset,\n",
        "    'num_classes': len(my_custom_dataset.class_names) + 1, # This should include the background class\n",
        "\n",
        "# ----------------------- YOLACT++ CONFIGS ----------------------- #\n",
        "\n",
        "yolact_plus_base_config = yolact_base_config.copy({\n",
        "    'name': 'yolact_plus_base',\n",
        "    'dataset': my_custom_dataset,\n",
        "    'num_classes': len(my_custom_dataset.class_names) + 1,\n",
        "    'backbone': resnet101_dcn_inter3_backbone.copy({\n",
        "        'selected_layers': list(range(1, 4)),\n",
        "        \n",
        "        'pred_aspect_ratios': [ [[1, 1/2, 2]] ]*5,\n",
        "        'pred_scales': [[i * 2 ** (j / 3.0) for j in range(3)] for i in [24, 48, 96, 192, 384]],\n",
        "        'use_pixel_scales': True,\n",
        "        'preapply_sqrt': False,\n",
        "        'use_square_anchors': False,\n",
        "    }),\n",
        "\n",
        "    'use_maskiou': True,\n",
        "    'maskiou_net': [(8, 3, {'stride': 2}), (16, 3, {'stride': 2}), (32, 3, {'stride': 2}), (64, 3, {'stride': 2}), (128, 3, {'stride': 2})],\n",
        "    'maskiou_alpha': 25,\n",
        "    'rescore_bbox': False,\n",
        "    'rescore_mask': True,\n",
        "\n",
        "    'discard_mask_area': 5*5,\n",
        "})\n",
        "'''\n",
        "\n"
      ],
      "metadata": {
        "id": "Vij1hTptbvtg"
      },
      "execution_count": null,
      "outputs": []
    },
    {
      "cell_type": "code",
      "source": [
        "%cd /content/yolact"
      ],
      "metadata": {
        "id": "K4J0Re4xd2tP",
        "colab": {
          "base_uri": "https://localhost:8080/"
        },
        "outputId": "a8810232-4f3d-478d-90d8-df50f515b6f4"
      },
      "execution_count": null,
      "outputs": [
        {
          "output_type": "stream",
          "name": "stdout",
          "text": [
            "/content/yolact\n"
          ]
        }
      ]
    },
    {
      "cell_type": "code",
      "source": [
        "!python train.py --config=yolact_plus_base_config --resume=weights/yolact_plus_base_54_800000.pth "
      ],
      "metadata": {
        "id": "4x11VD2EcctX",
        "colab": {
          "base_uri": "https://localhost:8080/"
        },
        "outputId": "625b7371-19b6-4c73-9ce1-ebf80c4c38a5"
      },
      "execution_count": null,
      "outputs": [
        {
          "output_type": "stream",
          "name": "stdout",
          "text": [
            "loading annotations into memory...\n",
            "Done (t=0.05s)\n",
            "creating index...\n",
            "index created!\n",
            "loading annotations into memory...\n",
            "Done (t=0.01s)\n",
            "creating index...\n",
            "index created!\n",
            "Resuming training, loading weights/yolact_plus_base_54_800000.pth...\n",
            "Traceback (most recent call last):\n",
            "  File \"train.py\", line 504, in <module>\n",
            "    train()\n",
            "  File \"train.py\", line 207, in train\n",
            "    yolact_net.load_weights(args.resume)\n",
            "  File \"/content/yolact/yolact.py\", line 490, in load_weights\n",
            "    self.load_state_dict(state_dict)\n",
            "  File \"/usr/local/lib/python3.7/dist-packages/torch/nn/modules/module.py\", line 830, in load_state_dict\n",
            "    self.__class__.__name__, \"\\n\\t\".join(error_msgs)))\n",
            "RuntimeError: Error(s) in loading state_dict for Yolact:\n",
            "\tsize mismatch for maskiou_net.maskiou_net.10.weight: copying a param with shape torch.Size([80, 128, 1, 1]) from checkpoint, the shape in current model is torch.Size([7, 128, 1, 1]).\n",
            "\tsize mismatch for maskiou_net.maskiou_net.10.bias: copying a param with shape torch.Size([80]) from checkpoint, the shape in current model is torch.Size([7]).\n",
            "\tsize mismatch for prediction_layers.0.conf_layer.weight: copying a param with shape torch.Size([729, 256, 3, 3]) from checkpoint, the shape in current model is torch.Size([72, 256, 3, 3]).\n",
            "\tsize mismatch for prediction_layers.0.conf_layer.bias: copying a param with shape torch.Size([729]) from checkpoint, the shape in current model is torch.Size([72]).\n",
            "\tsize mismatch for semantic_seg_conv.weight: copying a param with shape torch.Size([80, 256, 1, 1]) from checkpoint, the shape in current model is torch.Size([7, 256, 1, 1]).\n",
            "\tsize mismatch for semantic_seg_conv.bias: copying a param with shape torch.Size([80]) from checkpoint, the shape in current model is torch.Size([7]).\n"
          ]
        }
      ]
    },
    {
      "cell_type": "markdown",
      "source": [
        ""
      ],
      "metadata": {
        "id": "dS24dC4VVZ25"
      }
    },
    {
      "cell_type": "markdown",
      "source": [
        "## Yolact++\n",
        "@article{yolact-plus-tpami2020,\n",
        "\n",
        "  author  = {Daniel Bolya and Chong Zhou and Fanyi Xiao and Yong Jae Lee},\n",
        "\n",
        "  journal = {IEEE Transactions on Pattern Analysis and Machine Intelligence}, \n",
        "\n",
        "  title   = {YOLACT++: Better Real-time Instance Segmentation}, \n",
        "\n",
        "  year    = {2020},\n",
        "  \n",
        "}"
      ],
      "metadata": {
        "id": "c3c7FlwiTXdv"
      }
    },
    {
      "cell_type": "markdown",
      "source": [
        "## Dataset\n",
        "Afzaal, U.; Bhattarai, B.; Pandeya, Y.R.; Lee, J. An Instance Segmentation Model for Strawberry Diseases Based on Mask R-CNN. Sensors 2021, 21, 6565"
      ],
      "metadata": {
        "id": "sOe7ZNTSrM2C"
      }
    },
    {
      "cell_type": "code",
      "source": [
        "# %cd /content/\n",
        "# %rm -rf strawberry-disease-detection-dataset\n",
        "# %rm -rf yolact\n",
        "# %rm -rf train.json val.json\n",
        "# %rm -rf train_images/ valid_images/ view"
      ],
      "metadata": {
        "id": "wscrLqIqLvsy",
        "outputId": "5d53a026-ed44-448d-dfd7-7f67e251599f",
        "colab": {
          "base_uri": "https://localhost:8080/"
        }
      },
      "execution_count": null,
      "outputs": [
        {
          "output_type": "stream",
          "name": "stdout",
          "text": [
            "/content\n"
          ]
        }
      ]
    }
  ]
}